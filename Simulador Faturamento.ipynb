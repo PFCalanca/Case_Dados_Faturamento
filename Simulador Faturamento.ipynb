{
 "cells": [
  {
   "cell_type": "code",
   "execution_count": 3,
   "id": "f0e8fb37",
   "metadata": {},
   "outputs": [
    {
     "name": "stdout",
     "output_type": "stream",
     "text": [
      "Provavelmente tera um faturamento de 3367131.22 nesse bairro\n"
     ]
    }
   ],
   "source": [
    "import pickle\n",
    "\n",
    "modelo = open('modelo_faturamento','rb')\n",
    "novo_modelo = pickle.load(modelo)\n",
    "modelo.close()\n",
    "\n",
    "rendaMedia=7381.0\n",
    "domiciliosA1=5740\n",
    "domiciliosA2=1168\n",
    "domiciliosB1=19350\n",
    "domiciliosB2=13160\n",
    "domiciliosC1=10982\n",
    "domiciliosC2=5482\n",
    "domiciliosD=998\n",
    "domiciliosE=5122\n",
    "entrada=[[rendaMedia,domiciliosA1,domiciliosA2, domiciliosB1, domiciliosB2,\n",
    "          domiciliosC1, domiciliosC2,\tdomiciliosD,domiciliosE]]\n",
    "\n",
    "print('Provavelmente tera um faturamento de {0:.2f} nesse bairro'.format(novo_modelo.predict(entrada)[0]))"
   ]
  },
  {
   "cell_type": "code",
   "execution_count": 6,
   "id": "d7681157",
   "metadata": {},
   "outputs": [],
   "source": [
    "from ipywidgets import widgets, HBox, VBox\n",
    "from IPython.display import display\n",
    "\n",
    "# Criando os controles do formulário\n",
    "rendaMedia = widgets.Text(description=\"rendaMedia\")\n",
    "domiciliosA1 = widgets.Text(description=\"domiciliosA1\")\n",
    "domiciliosA2 = widgets.Text(description=\"domiciliosA2\")\n",
    "domiciliosB1 = widgets.Text(description=\"domiciliosB1\")\n",
    "domiciliosB2 = widgets.Text(description=\"domiciliosB2?\")\n",
    "domiciliosC1 = widgets.Text(description=\"domiciliosC1?\")\n",
    "domiciliosC2 = widgets.Text(description=\"domiciliosC2?\")\n",
    "domiciliosD = widgets.Text(description=\"domiciliosD?\")\n",
    "domiciliosE = widgets.Text(description=\"domiciliosE?\")\n",
    "\n",
    "botao = widgets.Button(description=\"Simular\")\n",
    "\n",
    "# Posicionando os controles\n",
    "left = VBox([rendaMedia,domiciliosA1,domiciliosA2,domiciliosB1,])\n",
    "right = VBox([domiciliosB2,domiciliosC1,domiciliosC2,domiciliosD,domiciliosE])\n",
    "inputs = HBox([left, right])\n",
    "\n",
    "# Função de simulação\n",
    "def simulador(sender):\n",
    "    entrada=[[\n",
    "                float(rendaMedia.value if rendaMedia.value else 0), \n",
    "                float(domiciliosA1.value if domiciliosA1.value else 0), \n",
    "                float(domiciliosA2.value if domiciliosA2.value else 0), \n",
    "                float(domiciliosB1.value if domiciliosB1.value else 0), \n",
    "                float(domiciliosB2.value if domiciliosB2.value else 0), \n",
    "                float(domiciliosC1.value if domiciliosC1.value else 0),\n",
    "                float(domiciliosC2.value if domiciliosC2.value else 0),\n",
    "                float(domiciliosD.value if domiciliosD.value else 0),\n",
    "                float(domiciliosE.value if domiciliosE.value else 0)\n",
    "                     ]]\n",
    "    print('Nessas condições podemos ter um faturamento de $ {0:.2f}'.format(novo_modelo.predict(entrada)[0]))\n",
    "    \n",
    "# Atribuindo a função \"simulador\" ao evento click do botão\n",
    "botao.on_click(simulador)   "
   ]
  },
  {
   "cell_type": "code",
   "execution_count": 5,
   "id": "5442696c",
   "metadata": {},
   "outputs": [
    {
     "data": {
      "application/vnd.jupyter.widget-view+json": {
       "model_id": "22c640d55045493f9ba632869a28aeee",
       "version_major": 2,
       "version_minor": 0
      },
      "text/plain": [
       "HBox(children=(VBox(children=(Text(value='', description='rendaMedia'), Text(value='', description='domicilios…"
      ]
     },
     "metadata": {},
     "output_type": "display_data"
    },
    {
     "data": {
      "application/vnd.jupyter.widget-view+json": {
       "model_id": "8cc4a32a3751437e869d7b7021351200",
       "version_major": 2,
       "version_minor": 0
      },
      "text/plain": [
       "Button(description='Simular', style=ButtonStyle())"
      ]
     },
     "metadata": {},
     "output_type": "display_data"
    },
    {
     "name": "stdout",
     "output_type": "stream",
     "text": [
      "$ 3070267.25\n",
      "$ 849597.13\n"
     ]
    }
   ],
   "source": [
    "display(inputs, botao)"
   ]
  },
  {
   "cell_type": "code",
   "execution_count": null,
   "id": "a43edf39",
   "metadata": {},
   "outputs": [],
   "source": []
  }
 ],
 "metadata": {
  "kernelspec": {
   "display_name": "Python 3",
   "language": "python",
   "name": "python3"
  },
  "language_info": {
   "codemirror_mode": {
    "name": "ipython",
    "version": 3
   },
   "file_extension": ".py",
   "mimetype": "text/x-python",
   "name": "python",
   "nbconvert_exporter": "python",
   "pygments_lexer": "ipython3",
   "version": "3.9.4"
  }
 },
 "nbformat": 4,
 "nbformat_minor": 5
}
