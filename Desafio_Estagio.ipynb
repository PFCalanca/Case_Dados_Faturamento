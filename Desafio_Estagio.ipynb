{
 "cells": [
  {
   "cell_type": "markdown",
   "id": "0b8a6436",
   "metadata": {},
   "source": [
    "# Relatorio de Análise "
   ]
  },
  {
   "cell_type": "code",
   "execution_count": null,
   "id": "b8dd9a07",
   "metadata": {},
   "outputs": [],
   "source": []
  },
  {
   "cell_type": "code",
   "execution_count": 1,
   "id": "e30055a4",
   "metadata": {},
   "outputs": [],
   "source": [
    "\n",
    "import matplotlib.pyplot as plt\n",
    "%matplotlib inline\n",
    "\n",
    "import numpy as np\n",
    "import pandas as pd\n",
    "import re"
   ]
  },
  {
   "cell_type": "code",
   "execution_count": 2,
   "id": "b26158c5",
   "metadata": {},
   "outputs": [
    {
     "data": {
      "text/html": [
       "<div>\n",
       "<style scoped>\n",
       "    .dataframe tbody tr th:only-of-type {\n",
       "        vertical-align: middle;\n",
       "    }\n",
       "\n",
       "    .dataframe tbody tr th {\n",
       "        vertical-align: top;\n",
       "    }\n",
       "\n",
       "    .dataframe thead th {\n",
       "        text-align: right;\n",
       "    }\n",
       "</style>\n",
       "<table border=\"1\" class=\"dataframe\">\n",
       "  <thead>\n",
       "    <tr style=\"text-align: right;\">\n",
       "      <th></th>\n",
       "      <th>codigo</th>\n",
       "      <th>nome</th>\n",
       "      <th>cidade</th>\n",
       "      <th>estado</th>\n",
       "      <th>população</th>\n",
       "      <th>popAte9</th>\n",
       "      <th>popDe10a14</th>\n",
       "      <th>popDe15a19</th>\n",
       "      <th>popDe20a24</th>\n",
       "      <th>popDe25a34</th>\n",
       "      <th>...</th>\n",
       "      <th>domiciliosA1</th>\n",
       "      <th>domiciliosA2</th>\n",
       "      <th>domiciliosB1</th>\n",
       "      <th>domiciliosB2</th>\n",
       "      <th>domiciliosC1</th>\n",
       "      <th>domiciliosC2</th>\n",
       "      <th>domiciliosD</th>\n",
       "      <th>domiciliosE</th>\n",
       "      <th>rendaMedia</th>\n",
       "      <th>faturamento</th>\n",
       "    </tr>\n",
       "  </thead>\n",
       "  <tbody>\n",
       "    <tr>\n",
       "      <th>0</th>\n",
       "      <td>3304557060</td>\n",
       "      <td>Abolição</td>\n",
       "      <td>Rio de Janeiro</td>\n",
       "      <td>RJ</td>\n",
       "      <td>11676</td>\n",
       "      <td>1027</td>\n",
       "      <td>483</td>\n",
       "      <td>688</td>\n",
       "      <td>800</td>\n",
       "      <td>1675</td>\n",
       "      <td>...</td>\n",
       "      <td>0</td>\n",
       "      <td>145</td>\n",
       "      <td>715</td>\n",
       "      <td>1242</td>\n",
       "      <td>1093</td>\n",
       "      <td>758</td>\n",
       "      <td>92</td>\n",
       "      <td>304</td>\n",
       "      <td>2501.0</td>\n",
       "      <td>932515.0</td>\n",
       "    </tr>\n",
       "    <tr>\n",
       "      <th>1</th>\n",
       "      <td>3304557138</td>\n",
       "      <td>Acari</td>\n",
       "      <td>Rio de Janeiro</td>\n",
       "      <td>RJ</td>\n",
       "      <td>27564</td>\n",
       "      <td>5131</td>\n",
       "      <td>2188</td>\n",
       "      <td>2697</td>\n",
       "      <td>2630</td>\n",
       "      <td>4810</td>\n",
       "      <td>...</td>\n",
       "      <td>0</td>\n",
       "      <td>0</td>\n",
       "      <td>82</td>\n",
       "      <td>506</td>\n",
       "      <td>2040</td>\n",
       "      <td>2490</td>\n",
       "      <td>827</td>\n",
       "      <td>2506</td>\n",
       "      <td>931.0</td>\n",
       "      <td>588833.0</td>\n",
       "    </tr>\n",
       "    <tr>\n",
       "      <th>2</th>\n",
       "      <td>3304557057</td>\n",
       "      <td>Água Santa</td>\n",
       "      <td>Rio de Janeiro</td>\n",
       "      <td>RJ</td>\n",
       "      <td>9003</td>\n",
       "      <td>883</td>\n",
       "      <td>399</td>\n",
       "      <td>597</td>\n",
       "      <td>762</td>\n",
       "      <td>1755</td>\n",
       "      <td>...</td>\n",
       "      <td>0</td>\n",
       "      <td>96</td>\n",
       "      <td>404</td>\n",
       "      <td>652</td>\n",
       "      <td>644</td>\n",
       "      <td>522</td>\n",
       "      <td>77</td>\n",
       "      <td>254</td>\n",
       "      <td>2391.0</td>\n",
       "      <td>874200.0</td>\n",
       "    </tr>\n",
       "    <tr>\n",
       "      <th>3</th>\n",
       "      <td>3304557031</td>\n",
       "      <td>Alto Da Boa Vista</td>\n",
       "      <td>Rio de Janeiro</td>\n",
       "      <td>RJ</td>\n",
       "      <td>9606</td>\n",
       "      <td>1072</td>\n",
       "      <td>538</td>\n",
       "      <td>660</td>\n",
       "      <td>685</td>\n",
       "      <td>1317</td>\n",
       "      <td>...</td>\n",
       "      <td>114</td>\n",
       "      <td>178</td>\n",
       "      <td>393</td>\n",
       "      <td>517</td>\n",
       "      <td>945</td>\n",
       "      <td>584</td>\n",
       "      <td>137</td>\n",
       "      <td>286</td>\n",
       "      <td>3727.0</td>\n",
       "      <td>912226.0</td>\n",
       "    </tr>\n",
       "    <tr>\n",
       "      <th>4</th>\n",
       "      <td>3304557125</td>\n",
       "      <td>Anchieta</td>\n",
       "      <td>Rio de Janeiro</td>\n",
       "      <td>RJ</td>\n",
       "      <td>57222</td>\n",
       "      <td>7677</td>\n",
       "      <td>3774</td>\n",
       "      <td>4892</td>\n",
       "      <td>4600</td>\n",
       "      <td>8660</td>\n",
       "      <td>...</td>\n",
       "      <td>0</td>\n",
       "      <td>0</td>\n",
       "      <td>1089</td>\n",
       "      <td>2821</td>\n",
       "      <td>5110</td>\n",
       "      <td>5422</td>\n",
       "      <td>1073</td>\n",
       "      <td>3261</td>\n",
       "      <td>1380.0</td>\n",
       "      <td>553020.0</td>\n",
       "    </tr>\n",
       "    <tr>\n",
       "      <th>...</th>\n",
       "      <td>...</td>\n",
       "      <td>...</td>\n",
       "      <td>...</td>\n",
       "      <td>...</td>\n",
       "      <td>...</td>\n",
       "      <td>...</td>\n",
       "      <td>...</td>\n",
       "      <td>...</td>\n",
       "      <td>...</td>\n",
       "      <td>...</td>\n",
       "      <td>...</td>\n",
       "      <td>...</td>\n",
       "      <td>...</td>\n",
       "      <td>...</td>\n",
       "      <td>...</td>\n",
       "      <td>...</td>\n",
       "      <td>...</td>\n",
       "      <td>...</td>\n",
       "      <td>...</td>\n",
       "      <td>...</td>\n",
       "      <td>...</td>\n",
       "    </tr>\n",
       "    <tr>\n",
       "      <th>155</th>\n",
       "      <td>3304557062</td>\n",
       "      <td>Vila Kosmos</td>\n",
       "      <td>Rio de Janeiro</td>\n",
       "      <td>RJ</td>\n",
       "      <td>18791</td>\n",
       "      <td>1802</td>\n",
       "      <td>921</td>\n",
       "      <td>1442</td>\n",
       "      <td>1462</td>\n",
       "      <td>2500</td>\n",
       "      <td>...</td>\n",
       "      <td>0</td>\n",
       "      <td>259</td>\n",
       "      <td>774</td>\n",
       "      <td>1363</td>\n",
       "      <td>1923</td>\n",
       "      <td>1379</td>\n",
       "      <td>190</td>\n",
       "      <td>405</td>\n",
       "      <td>2316.0</td>\n",
       "      <td>901446.0</td>\n",
       "    </tr>\n",
       "    <tr>\n",
       "      <th>156</th>\n",
       "      <td>3304557093</td>\n",
       "      <td>Vila Militar</td>\n",
       "      <td>Rio de Janeiro</td>\n",
       "      <td>RJ</td>\n",
       "      <td>13556</td>\n",
       "      <td>1888</td>\n",
       "      <td>787</td>\n",
       "      <td>1042</td>\n",
       "      <td>982</td>\n",
       "      <td>2542</td>\n",
       "      <td>...</td>\n",
       "      <td>0</td>\n",
       "      <td>219</td>\n",
       "      <td>714</td>\n",
       "      <td>828</td>\n",
       "      <td>1051</td>\n",
       "      <td>1012</td>\n",
       "      <td>116</td>\n",
       "      <td>465</td>\n",
       "      <td>2416.0</td>\n",
       "      <td>849731.0</td>\n",
       "    </tr>\n",
       "    <tr>\n",
       "      <th>157</th>\n",
       "      <td>3304557091</td>\n",
       "      <td>Vila Valqueire</td>\n",
       "      <td>Rio de Janeiro</td>\n",
       "      <td>RJ</td>\n",
       "      <td>33190</td>\n",
       "      <td>3166</td>\n",
       "      <td>1619</td>\n",
       "      <td>2255</td>\n",
       "      <td>2326</td>\n",
       "      <td>4752</td>\n",
       "      <td>...</td>\n",
       "      <td>0</td>\n",
       "      <td>906</td>\n",
       "      <td>2866</td>\n",
       "      <td>2241</td>\n",
       "      <td>2982</td>\n",
       "      <td>1200</td>\n",
       "      <td>360</td>\n",
       "      <td>772</td>\n",
       "      <td>3189.0</td>\n",
       "      <td>1127042.0</td>\n",
       "    </tr>\n",
       "    <tr>\n",
       "      <th>158</th>\n",
       "      <td>3304557065</td>\n",
       "      <td>Vista Alegre</td>\n",
       "      <td>Rio de Janeiro</td>\n",
       "      <td>RJ</td>\n",
       "      <td>8867</td>\n",
       "      <td>724</td>\n",
       "      <td>387</td>\n",
       "      <td>580</td>\n",
       "      <td>565</td>\n",
       "      <td>1205</td>\n",
       "      <td>...</td>\n",
       "      <td>0</td>\n",
       "      <td>87</td>\n",
       "      <td>556</td>\n",
       "      <td>836</td>\n",
       "      <td>940</td>\n",
       "      <td>484</td>\n",
       "      <td>75</td>\n",
       "      <td>214</td>\n",
       "      <td>2418.0</td>\n",
       "      <td>921875.0</td>\n",
       "    </tr>\n",
       "    <tr>\n",
       "      <th>159</th>\n",
       "      <td>3304557110</td>\n",
       "      <td>Zumbi</td>\n",
       "      <td>Rio de Janeiro</td>\n",
       "      <td>RJ</td>\n",
       "      <td>2072</td>\n",
       "      <td>175</td>\n",
       "      <td>74</td>\n",
       "      <td>120</td>\n",
       "      <td>121</td>\n",
       "      <td>318</td>\n",
       "      <td>...</td>\n",
       "      <td>0</td>\n",
       "      <td>89</td>\n",
       "      <td>234</td>\n",
       "      <td>177</td>\n",
       "      <td>147</td>\n",
       "      <td>72</td>\n",
       "      <td>10</td>\n",
       "      <td>47</td>\n",
       "      <td>3791.0</td>\n",
       "      <td>919451.0</td>\n",
       "    </tr>\n",
       "  </tbody>\n",
       "</table>\n",
       "<p>160 rows × 23 columns</p>\n",
       "</div>"
      ],
      "text/plain": [
       "         codigo               nome          cidade estado  população  popAte9  \\\n",
       "0    3304557060           Abolição  Rio de Janeiro     RJ      11676     1027   \n",
       "1    3304557138              Acari  Rio de Janeiro     RJ      27564     5131   \n",
       "2    3304557057         Água Santa  Rio de Janeiro     RJ       9003      883   \n",
       "3    3304557031  Alto Da Boa Vista  Rio de Janeiro     RJ       9606     1072   \n",
       "4    3304557125           Anchieta  Rio de Janeiro     RJ      57222     7677   \n",
       "..          ...                ...             ...    ...        ...      ...   \n",
       "155  3304557062        Vila Kosmos  Rio de Janeiro     RJ      18791     1802   \n",
       "156  3304557093       Vila Militar  Rio de Janeiro     RJ      13556     1888   \n",
       "157  3304557091     Vila Valqueire  Rio de Janeiro     RJ      33190     3166   \n",
       "158  3304557065       Vista Alegre  Rio de Janeiro     RJ       8867      724   \n",
       "159  3304557110              Zumbi  Rio de Janeiro     RJ       2072      175   \n",
       "\n",
       "     popDe10a14  popDe15a19  popDe20a24  popDe25a34  ...  domiciliosA1  \\\n",
       "0           483         688         800        1675  ...             0   \n",
       "1          2188        2697        2630        4810  ...             0   \n",
       "2           399         597         762        1755  ...             0   \n",
       "3           538         660         685        1317  ...           114   \n",
       "4          3774        4892        4600        8660  ...             0   \n",
       "..          ...         ...         ...         ...  ...           ...   \n",
       "155         921        1442        1462        2500  ...             0   \n",
       "156         787        1042         982        2542  ...             0   \n",
       "157        1619        2255        2326        4752  ...             0   \n",
       "158         387         580         565        1205  ...             0   \n",
       "159          74         120         121         318  ...             0   \n",
       "\n",
       "     domiciliosA2  domiciliosB1  domiciliosB2  domiciliosC1  domiciliosC2  \\\n",
       "0             145           715          1242          1093           758   \n",
       "1               0            82           506          2040          2490   \n",
       "2              96           404           652           644           522   \n",
       "3             178           393           517           945           584   \n",
       "4               0          1089          2821          5110          5422   \n",
       "..            ...           ...           ...           ...           ...   \n",
       "155           259           774          1363          1923          1379   \n",
       "156           219           714           828          1051          1012   \n",
       "157           906          2866          2241          2982          1200   \n",
       "158            87           556           836           940           484   \n",
       "159            89           234           177           147            72   \n",
       "\n",
       "     domiciliosD  domiciliosE  rendaMedia  faturamento  \n",
       "0             92          304      2501.0     932515.0  \n",
       "1            827         2506       931.0     588833.0  \n",
       "2             77          254      2391.0     874200.0  \n",
       "3            137          286      3727.0     912226.0  \n",
       "4           1073         3261      1380.0     553020.0  \n",
       "..           ...          ...         ...          ...  \n",
       "155          190          405      2316.0     901446.0  \n",
       "156          116          465      2416.0     849731.0  \n",
       "157          360          772      3189.0    1127042.0  \n",
       "158           75          214      2418.0     921875.0  \n",
       "159           10           47      3791.0     919451.0  \n",
       "\n",
       "[160 rows x 23 columns]"
      ]
     },
     "execution_count": 2,
     "metadata": {},
     "output_type": "execute_result"
    }
   ],
   "source": [
    "pd.read_csv('DesafioDados/DesafioEstagioMachineLearning.csv')"
   ]
  },
  {
   "cell_type": "code",
   "execution_count": 3,
   "id": "434831ee",
   "metadata": {},
   "outputs": [],
   "source": [
    "dados = pd.read_csv('DesafioDados/DesafioEstagioMachineLearning.csv')"
   ]
  },
  {
   "cell_type": "code",
   "execution_count": 4,
   "id": "bf26edc7",
   "metadata": {},
   "outputs": [],
   "source": [
    "dados_bairro = pd.DataFrame(dados, columns = ['nome','população','domiciliosA1','domiciliosA2','domiciliosB1','domiciliosB2','domiciliosC1','domiciliosC2','domiciliosD','domiciliosE','faturamento'])"
   ]
  },
  {
   "cell_type": "code",
   "execution_count": null,
   "id": "78dd8043",
   "metadata": {},
   "outputs": [],
   "source": []
  },
  {
   "cell_type": "code",
   "execution_count": null,
   "id": "d4da0538",
   "metadata": {},
   "outputs": [],
   "source": []
  },
  {
   "cell_type": "code",
   "execution_count": 5,
   "id": "66db1984",
   "metadata": {},
   "outputs": [
    {
     "data": {
      "text/html": [
       "<div>\n",
       "<style scoped>\n",
       "    .dataframe tbody tr th:only-of-type {\n",
       "        vertical-align: middle;\n",
       "    }\n",
       "\n",
       "    .dataframe tbody tr th {\n",
       "        vertical-align: top;\n",
       "    }\n",
       "\n",
       "    .dataframe thead th {\n",
       "        text-align: right;\n",
       "    }\n",
       "</style>\n",
       "<table border=\"1\" class=\"dataframe\">\n",
       "  <thead>\n",
       "    <tr style=\"text-align: right;\">\n",
       "      <th></th>\n",
       "      <th>nome</th>\n",
       "      <th>população</th>\n",
       "      <th>domiciliosA1</th>\n",
       "      <th>domiciliosA2</th>\n",
       "      <th>domiciliosB1</th>\n",
       "      <th>domiciliosB2</th>\n",
       "      <th>domiciliosC1</th>\n",
       "      <th>domiciliosC2</th>\n",
       "      <th>domiciliosD</th>\n",
       "      <th>domiciliosE</th>\n",
       "      <th>faturamento</th>\n",
       "    </tr>\n",
       "  </thead>\n",
       "  <tbody>\n",
       "    <tr>\n",
       "      <th>9</th>\n",
       "      <td>Barra Da Tijuca</td>\n",
       "      <td>139761</td>\n",
       "      <td>13408</td>\n",
       "      <td>11668</td>\n",
       "      <td>14820</td>\n",
       "      <td>5205</td>\n",
       "      <td>3437</td>\n",
       "      <td>1841</td>\n",
       "      <td>0</td>\n",
       "      <td>3897</td>\n",
       "      <td>2915612.0</td>\n",
       "    </tr>\n",
       "    <tr>\n",
       "      <th>36</th>\n",
       "      <td>Copacabana</td>\n",
       "      <td>150524</td>\n",
       "      <td>5740</td>\n",
       "      <td>9218</td>\n",
       "      <td>19350</td>\n",
       "      <td>13160</td>\n",
       "      <td>10982</td>\n",
       "      <td>5482</td>\n",
       "      <td>998</td>\n",
       "      <td>5122</td>\n",
       "      <td>2384494.0</td>\n",
       "    </tr>\n",
       "    <tr>\n",
       "      <th>15</th>\n",
       "      <td>Botafogo</td>\n",
       "      <td>85229</td>\n",
       "      <td>3669</td>\n",
       "      <td>5165</td>\n",
       "      <td>11669</td>\n",
       "      <td>6106</td>\n",
       "      <td>5289</td>\n",
       "      <td>3009</td>\n",
       "      <td>371</td>\n",
       "      <td>1853</td>\n",
       "      <td>2211985.0</td>\n",
       "    </tr>\n",
       "    <tr>\n",
       "      <th>141</th>\n",
       "      <td>Tijuca</td>\n",
       "      <td>168267</td>\n",
       "      <td>4351</td>\n",
       "      <td>8306</td>\n",
       "      <td>19076</td>\n",
       "      <td>11631</td>\n",
       "      <td>10755</td>\n",
       "      <td>6539</td>\n",
       "      <td>1280</td>\n",
       "      <td>3723</td>\n",
       "      <td>2157079.0</td>\n",
       "    </tr>\n",
       "    <tr>\n",
       "      <th>82</th>\n",
       "      <td>Leblon</td>\n",
       "      <td>47342</td>\n",
       "      <td>5423</td>\n",
       "      <td>3532</td>\n",
       "      <td>5342</td>\n",
       "      <td>1863</td>\n",
       "      <td>1890</td>\n",
       "      <td>917</td>\n",
       "      <td>217</td>\n",
       "      <td>1595</td>\n",
       "      <td>2119774.0</td>\n",
       "    </tr>\n",
       "    <tr>\n",
       "      <th>...</th>\n",
       "      <td>...</td>\n",
       "      <td>...</td>\n",
       "      <td>...</td>\n",
       "      <td>...</td>\n",
       "      <td>...</td>\n",
       "      <td>...</td>\n",
       "      <td>...</td>\n",
       "      <td>...</td>\n",
       "      <td>...</td>\n",
       "      <td>...</td>\n",
       "      <td>...</td>\n",
       "    </tr>\n",
       "    <tr>\n",
       "      <th>62</th>\n",
       "      <td>Guaratiba</td>\n",
       "      <td>112994</td>\n",
       "      <td>0</td>\n",
       "      <td>0</td>\n",
       "      <td>1429</td>\n",
       "      <td>4066</td>\n",
       "      <td>9306</td>\n",
       "      <td>11066</td>\n",
       "      <td>2289</td>\n",
       "      <td>7258</td>\n",
       "      <td>69304.0</td>\n",
       "    </tr>\n",
       "    <tr>\n",
       "      <th>125</th>\n",
       "      <td>Rocinha</td>\n",
       "      <td>71315</td>\n",
       "      <td>0</td>\n",
       "      <td>0</td>\n",
       "      <td>149</td>\n",
       "      <td>2298</td>\n",
       "      <td>6761</td>\n",
       "      <td>8969</td>\n",
       "      <td>1402</td>\n",
       "      <td>5242</td>\n",
       "      <td>59273.0</td>\n",
       "    </tr>\n",
       "    <tr>\n",
       "      <th>127</th>\n",
       "      <td>Santa Cruz</td>\n",
       "      <td>223440</td>\n",
       "      <td>0</td>\n",
       "      <td>0</td>\n",
       "      <td>2057</td>\n",
       "      <td>8310</td>\n",
       "      <td>18161</td>\n",
       "      <td>22160</td>\n",
       "      <td>4572</td>\n",
       "      <td>14833</td>\n",
       "      <td>43346.0</td>\n",
       "    </tr>\n",
       "    <tr>\n",
       "      <th>8</th>\n",
       "      <td>Bangu</td>\n",
       "      <td>249987</td>\n",
       "      <td>0</td>\n",
       "      <td>496</td>\n",
       "      <td>5246</td>\n",
       "      <td>13274</td>\n",
       "      <td>24363</td>\n",
       "      <td>22447</td>\n",
       "      <td>4564</td>\n",
       "      <td>11109</td>\n",
       "      <td>35465.0</td>\n",
       "    </tr>\n",
       "    <tr>\n",
       "      <th>90</th>\n",
       "      <td>Maré</td>\n",
       "      <td>133432</td>\n",
       "      <td>0</td>\n",
       "      <td>0</td>\n",
       "      <td>640</td>\n",
       "      <td>4262</td>\n",
       "      <td>12818</td>\n",
       "      <td>15295</td>\n",
       "      <td>2977</td>\n",
       "      <td>8274</td>\n",
       "      <td>24651.0</td>\n",
       "    </tr>\n",
       "  </tbody>\n",
       "</table>\n",
       "<p>160 rows × 11 columns</p>\n",
       "</div>"
      ],
      "text/plain": [
       "                nome  população  domiciliosA1  domiciliosA2  domiciliosB1  \\\n",
       "9    Barra Da Tijuca     139761         13408         11668         14820   \n",
       "36        Copacabana     150524          5740          9218         19350   \n",
       "15          Botafogo      85229          3669          5165         11669   \n",
       "141           Tijuca     168267          4351          8306         19076   \n",
       "82            Leblon      47342          5423          3532          5342   \n",
       "..               ...        ...           ...           ...           ...   \n",
       "62         Guaratiba     112994             0             0          1429   \n",
       "125          Rocinha      71315             0             0           149   \n",
       "127       Santa Cruz     223440             0             0          2057   \n",
       "8              Bangu     249987             0           496          5246   \n",
       "90              Maré     133432             0             0           640   \n",
       "\n",
       "     domiciliosB2  domiciliosC1  domiciliosC2  domiciliosD  domiciliosE  \\\n",
       "9            5205          3437          1841            0         3897   \n",
       "36          13160         10982          5482          998         5122   \n",
       "15           6106          5289          3009          371         1853   \n",
       "141         11631         10755          6539         1280         3723   \n",
       "82           1863          1890           917          217         1595   \n",
       "..            ...           ...           ...          ...          ...   \n",
       "62           4066          9306         11066         2289         7258   \n",
       "125          2298          6761          8969         1402         5242   \n",
       "127          8310         18161         22160         4572        14833   \n",
       "8           13274         24363         22447         4564        11109   \n",
       "90           4262         12818         15295         2977         8274   \n",
       "\n",
       "     faturamento  \n",
       "9      2915612.0  \n",
       "36     2384494.0  \n",
       "15     2211985.0  \n",
       "141    2157079.0  \n",
       "82     2119774.0  \n",
       "..           ...  \n",
       "62       69304.0  \n",
       "125      59273.0  \n",
       "127      43346.0  \n",
       "8        35465.0  \n",
       "90       24651.0  \n",
       "\n",
       "[160 rows x 11 columns]"
      ]
     },
     "execution_count": 5,
     "metadata": {},
     "output_type": "execute_result"
    }
   ],
   "source": [
    "maior_faturamento = (dados_bairro.sort_values(by=['faturamento'],ascending=False))\n",
    "maior_faturamento"
   ]
  },
  {
   "cell_type": "code",
   "execution_count": null,
   "id": "8b85899e",
   "metadata": {},
   "outputs": [],
   "source": []
  },
  {
   "cell_type": "markdown",
   "id": "67195af4",
   "metadata": {},
   "source": [
    "# Podemos observar que os bairros sao possivelmente os que tem mais faturamento."
   ]
  },
  {
   "cell_type": "code",
   "execution_count": 6,
   "id": "ef6e2e5d",
   "metadata": {},
   "outputs": [
    {
     "data": {
      "text/plain": [
       "nome            Barra Da Tijuca\n",
       "população                139761\n",
       "domiciliosA1              13408\n",
       "domiciliosA2              11668\n",
       "domiciliosB1              14820\n",
       "domiciliosB2               5205\n",
       "domiciliosC1               3437\n",
       "domiciliosC2               1841\n",
       "domiciliosD                   0\n",
       "domiciliosE                3897\n",
       "faturamento           2915612.0\n",
       "Name: 9, dtype: object"
      ]
     },
     "metadata": {},
     "output_type": "display_data"
    }
   ],
   "source": [
    "display(dados_bairro.iloc[9])"
   ]
  },
  {
   "cell_type": "code",
   "execution_count": 7,
   "id": "ab4c4e99",
   "metadata": {},
   "outputs": [
    {
     "name": "stdout",
     "output_type": "stream",
     "text": [
      "852650\n",
      "397511\n",
      "523545\n",
      "535901\n",
      "1053516\n",
      "1412298\n",
      "853162\n",
      "1196113\n"
     ]
    },
    {
     "data": {
      "text/plain": [
       "1412298"
      ]
     },
     "execution_count": 7,
     "metadata": {},
     "output_type": "execute_result"
    }
   ],
   "source": [
    "lista_publico =pd.DataFrame(dados, columns = ['nome','população','popAte9','popDe10a14','popDe15a19', 'popDe20a24','popDe25a34','popDe35a49','popDe50a59','popMaisDe60','rendaMedia','faturamento'])\n",
    "lista_publico = (lista_publico.sort_values(by=['faturamento'],ascending=False))\n",
    "\n",
    "lista =[lista_publico.popAte9.sum(),\n",
    "        lista_publico.popDe10a14.sum(),\n",
    "        lista_publico.popDe15a19.sum(),\n",
    "        lista_publico.popDe20a24.sum(),\n",
    "        lista_publico.popDe25a34.sum(),\n",
    "        lista_publico.popDe35a49.sum(),\n",
    "        lista_publico.popDe50a59.sum(),\n",
    "        lista_publico.popMaisDe60.sum()]\n",
    "for x in lista:\n",
    "    print(x)\n",
    "lista_publico.popDe35a49.sum()\n",
    " \n"
   ]
  },
  {
   "cell_type": "markdown",
   "id": "be45ab6b",
   "metadata": {},
   "source": [
    "### Podemos dizer que o publico alvo PODE ser de 35 a 49 e que tudo indica que as regiões de classes mais altas temos um faturamento maior"
   ]
  },
  {
   "cell_type": "markdown",
   "id": "df73c930",
   "metadata": {},
   "source": [
    "### . Agora devemos criar um modelo de regressão capaz de prever o faturamento em novos bairros, caso o cliente queira realizar um projeto de expansão."
   ]
  },
  {
   "cell_type": "code",
   "execution_count": 8,
   "id": "5ef788a6",
   "metadata": {},
   "outputs": [],
   "source": [
    "import numpy as np\n",
    "import pandas as pd\n",
    "from pandas import Series, DataFrame\n",
    "from sklearn.model_selection import train_test_split\n",
    "from sklearn.linear_model import LinearRegression\n",
    "from sklearn import metrics\n",
    "import seaborn as sns"
   ]
  },
  {
   "cell_type": "code",
   "execution_count": 9,
   "id": "d2113cbc",
   "metadata": {},
   "outputs": [],
   "source": [
    "df = pd.read_csv('DesafioDados/DesafioEstagioMachineLearning.csv')\n",
    "df = df.dropna()"
   ]
  },
  {
   "cell_type": "code",
   "execution_count": 10,
   "id": "a5eb3482",
   "metadata": {},
   "outputs": [
    {
     "data": {
      "text/html": [
       "<div>\n",
       "<style scoped>\n",
       "    .dataframe tbody tr th:only-of-type {\n",
       "        vertical-align: middle;\n",
       "    }\n",
       "\n",
       "    .dataframe tbody tr th {\n",
       "        vertical-align: top;\n",
       "    }\n",
       "\n",
       "    .dataframe thead th {\n",
       "        text-align: right;\n",
       "    }\n",
       "</style>\n",
       "<table border=\"1\" class=\"dataframe\">\n",
       "  <thead>\n",
       "    <tr style=\"text-align: right;\">\n",
       "      <th></th>\n",
       "      <th>codigo</th>\n",
       "      <th>nome</th>\n",
       "      <th>cidade</th>\n",
       "      <th>estado</th>\n",
       "      <th>população</th>\n",
       "      <th>popAte9</th>\n",
       "      <th>popDe10a14</th>\n",
       "      <th>popDe15a19</th>\n",
       "      <th>popDe20a24</th>\n",
       "      <th>popDe25a34</th>\n",
       "      <th>...</th>\n",
       "      <th>domiciliosA1</th>\n",
       "      <th>domiciliosA2</th>\n",
       "      <th>domiciliosB1</th>\n",
       "      <th>domiciliosB2</th>\n",
       "      <th>domiciliosC1</th>\n",
       "      <th>domiciliosC2</th>\n",
       "      <th>domiciliosD</th>\n",
       "      <th>domiciliosE</th>\n",
       "      <th>rendaMedia</th>\n",
       "      <th>faturamento</th>\n",
       "    </tr>\n",
       "  </thead>\n",
       "  <tbody>\n",
       "    <tr>\n",
       "      <th>9</th>\n",
       "      <td>3304557131</td>\n",
       "      <td>Barra Da Tijuca</td>\n",
       "      <td>Rio de Janeiro</td>\n",
       "      <td>RJ</td>\n",
       "      <td>139761</td>\n",
       "      <td>13038</td>\n",
       "      <td>5225</td>\n",
       "      <td>7432</td>\n",
       "      <td>8627</td>\n",
       "      <td>21914</td>\n",
       "      <td>...</td>\n",
       "      <td>13408</td>\n",
       "      <td>11668</td>\n",
       "      <td>14820</td>\n",
       "      <td>5205</td>\n",
       "      <td>3437</td>\n",
       "      <td>1841</td>\n",
       "      <td>0</td>\n",
       "      <td>3897</td>\n",
       "      <td>18084.0</td>\n",
       "      <td>2915612.0</td>\n",
       "    </tr>\n",
       "    <tr>\n",
       "      <th>36</th>\n",
       "      <td>3304557018</td>\n",
       "      <td>Copacabana</td>\n",
       "      <td>Rio de Janeiro</td>\n",
       "      <td>RJ</td>\n",
       "      <td>150524</td>\n",
       "      <td>8562</td>\n",
       "      <td>3727</td>\n",
       "      <td>6383</td>\n",
       "      <td>9168</td>\n",
       "      <td>21814</td>\n",
       "      <td>...</td>\n",
       "      <td>5740</td>\n",
       "      <td>9218</td>\n",
       "      <td>19350</td>\n",
       "      <td>13160</td>\n",
       "      <td>10982</td>\n",
       "      <td>5482</td>\n",
       "      <td>998</td>\n",
       "      <td>5122</td>\n",
       "      <td>7381.0</td>\n",
       "      <td>2384494.0</td>\n",
       "    </tr>\n",
       "    <tr>\n",
       "      <th>15</th>\n",
       "      <td>3304557014</td>\n",
       "      <td>Botafogo</td>\n",
       "      <td>Rio de Janeiro</td>\n",
       "      <td>RJ</td>\n",
       "      <td>85229</td>\n",
       "      <td>6278</td>\n",
       "      <td>2608</td>\n",
       "      <td>4410</td>\n",
       "      <td>5911</td>\n",
       "      <td>14697</td>\n",
       "      <td>...</td>\n",
       "      <td>3669</td>\n",
       "      <td>5165</td>\n",
       "      <td>11669</td>\n",
       "      <td>6106</td>\n",
       "      <td>5289</td>\n",
       "      <td>3009</td>\n",
       "      <td>371</td>\n",
       "      <td>1853</td>\n",
       "      <td>8316.0</td>\n",
       "      <td>2211985.0</td>\n",
       "    </tr>\n",
       "    <tr>\n",
       "      <th>141</th>\n",
       "      <td>3304557030</td>\n",
       "      <td>Tijuca</td>\n",
       "      <td>Rio de Janeiro</td>\n",
       "      <td>RJ</td>\n",
       "      <td>168267</td>\n",
       "      <td>13033</td>\n",
       "      <td>6405</td>\n",
       "      <td>9750</td>\n",
       "      <td>10968</td>\n",
       "      <td>23657</td>\n",
       "      <td>...</td>\n",
       "      <td>4351</td>\n",
       "      <td>8306</td>\n",
       "      <td>19076</td>\n",
       "      <td>11631</td>\n",
       "      <td>10755</td>\n",
       "      <td>6539</td>\n",
       "      <td>1280</td>\n",
       "      <td>3723</td>\n",
       "      <td>7844.0</td>\n",
       "      <td>2157079.0</td>\n",
       "    </tr>\n",
       "    <tr>\n",
       "      <th>82</th>\n",
       "      <td>3304557020</td>\n",
       "      <td>Leblon</td>\n",
       "      <td>Rio de Janeiro</td>\n",
       "      <td>RJ</td>\n",
       "      <td>47342</td>\n",
       "      <td>3134</td>\n",
       "      <td>1380</td>\n",
       "      <td>2131</td>\n",
       "      <td>2390</td>\n",
       "      <td>6177</td>\n",
       "      <td>...</td>\n",
       "      <td>5423</td>\n",
       "      <td>3532</td>\n",
       "      <td>5342</td>\n",
       "      <td>1863</td>\n",
       "      <td>1890</td>\n",
       "      <td>917</td>\n",
       "      <td>217</td>\n",
       "      <td>1595</td>\n",
       "      <td>14738.0</td>\n",
       "      <td>2119774.0</td>\n",
       "    </tr>\n",
       "    <tr>\n",
       "      <th>...</th>\n",
       "      <td>...</td>\n",
       "      <td>...</td>\n",
       "      <td>...</td>\n",
       "      <td>...</td>\n",
       "      <td>...</td>\n",
       "      <td>...</td>\n",
       "      <td>...</td>\n",
       "      <td>...</td>\n",
       "      <td>...</td>\n",
       "      <td>...</td>\n",
       "      <td>...</td>\n",
       "      <td>...</td>\n",
       "      <td>...</td>\n",
       "      <td>...</td>\n",
       "      <td>...</td>\n",
       "      <td>...</td>\n",
       "      <td>...</td>\n",
       "      <td>...</td>\n",
       "      <td>...</td>\n",
       "      <td>...</td>\n",
       "      <td>...</td>\n",
       "    </tr>\n",
       "    <tr>\n",
       "      <th>62</th>\n",
       "      <td>3304557142</td>\n",
       "      <td>Guaratiba</td>\n",
       "      <td>Rio de Janeiro</td>\n",
       "      <td>RJ</td>\n",
       "      <td>112994</td>\n",
       "      <td>18088</td>\n",
       "      <td>8474</td>\n",
       "      <td>10307</td>\n",
       "      <td>9069</td>\n",
       "      <td>18732</td>\n",
       "      <td>...</td>\n",
       "      <td>0</td>\n",
       "      <td>0</td>\n",
       "      <td>1429</td>\n",
       "      <td>4066</td>\n",
       "      <td>9306</td>\n",
       "      <td>11066</td>\n",
       "      <td>2289</td>\n",
       "      <td>7258</td>\n",
       "      <td>1237.0</td>\n",
       "      <td>69304.0</td>\n",
       "    </tr>\n",
       "    <tr>\n",
       "      <th>125</th>\n",
       "      <td>3304557156</td>\n",
       "      <td>Rocinha</td>\n",
       "      <td>Rio de Janeiro</td>\n",
       "      <td>RJ</td>\n",
       "      <td>71315</td>\n",
       "      <td>11817</td>\n",
       "      <td>4576</td>\n",
       "      <td>6527</td>\n",
       "      <td>7855</td>\n",
       "      <td>14629</td>\n",
       "      <td>...</td>\n",
       "      <td>0</td>\n",
       "      <td>0</td>\n",
       "      <td>149</td>\n",
       "      <td>2298</td>\n",
       "      <td>6761</td>\n",
       "      <td>8969</td>\n",
       "      <td>1402</td>\n",
       "      <td>5242</td>\n",
       "      <td>1037.0</td>\n",
       "      <td>59273.0</td>\n",
       "    </tr>\n",
       "    <tr>\n",
       "      <th>127</th>\n",
       "      <td>3304557107</td>\n",
       "      <td>Santa Cruz</td>\n",
       "      <td>Rio de Janeiro</td>\n",
       "      <td>RJ</td>\n",
       "      <td>223440</td>\n",
       "      <td>35572</td>\n",
       "      <td>16403</td>\n",
       "      <td>20998</td>\n",
       "      <td>18090</td>\n",
       "      <td>34697</td>\n",
       "      <td>...</td>\n",
       "      <td>0</td>\n",
       "      <td>0</td>\n",
       "      <td>2057</td>\n",
       "      <td>8310</td>\n",
       "      <td>18161</td>\n",
       "      <td>22160</td>\n",
       "      <td>4572</td>\n",
       "      <td>14833</td>\n",
       "      <td>1188.0</td>\n",
       "      <td>43346.0</td>\n",
       "    </tr>\n",
       "    <tr>\n",
       "      <th>8</th>\n",
       "      <td>3304557099</td>\n",
       "      <td>Bangu</td>\n",
       "      <td>Rio de Janeiro</td>\n",
       "      <td>RJ</td>\n",
       "      <td>249987</td>\n",
       "      <td>32651</td>\n",
       "      <td>15949</td>\n",
       "      <td>20926</td>\n",
       "      <td>20146</td>\n",
       "      <td>37750</td>\n",
       "      <td>...</td>\n",
       "      <td>0</td>\n",
       "      <td>496</td>\n",
       "      <td>5246</td>\n",
       "      <td>13274</td>\n",
       "      <td>24363</td>\n",
       "      <td>22447</td>\n",
       "      <td>4564</td>\n",
       "      <td>11109</td>\n",
       "      <td>1550.0</td>\n",
       "      <td>35465.0</td>\n",
       "    </tr>\n",
       "    <tr>\n",
       "      <th>90</th>\n",
       "      <td>3304557158</td>\n",
       "      <td>Maré</td>\n",
       "      <td>Rio de Janeiro</td>\n",
       "      <td>RJ</td>\n",
       "      <td>133432</td>\n",
       "      <td>22021</td>\n",
       "      <td>9536</td>\n",
       "      <td>12193</td>\n",
       "      <td>12618</td>\n",
       "      <td>24528</td>\n",
       "      <td>...</td>\n",
       "      <td>0</td>\n",
       "      <td>0</td>\n",
       "      <td>640</td>\n",
       "      <td>4262</td>\n",
       "      <td>12818</td>\n",
       "      <td>15295</td>\n",
       "      <td>2977</td>\n",
       "      <td>8274</td>\n",
       "      <td>1107.0</td>\n",
       "      <td>24651.0</td>\n",
       "    </tr>\n",
       "  </tbody>\n",
       "</table>\n",
       "<p>154 rows × 23 columns</p>\n",
       "</div>"
      ],
      "text/plain": [
       "         codigo             nome          cidade estado  população  popAte9  \\\n",
       "9    3304557131  Barra Da Tijuca  Rio de Janeiro     RJ     139761    13038   \n",
       "36   3304557018       Copacabana  Rio de Janeiro     RJ     150524     8562   \n",
       "15   3304557014         Botafogo  Rio de Janeiro     RJ      85229     6278   \n",
       "141  3304557030           Tijuca  Rio de Janeiro     RJ     168267    13033   \n",
       "82   3304557020           Leblon  Rio de Janeiro     RJ      47342     3134   \n",
       "..          ...              ...             ...    ...        ...      ...   \n",
       "62   3304557142        Guaratiba  Rio de Janeiro     RJ     112994    18088   \n",
       "125  3304557156          Rocinha  Rio de Janeiro     RJ      71315    11817   \n",
       "127  3304557107       Santa Cruz  Rio de Janeiro     RJ     223440    35572   \n",
       "8    3304557099            Bangu  Rio de Janeiro     RJ     249987    32651   \n",
       "90   3304557158             Maré  Rio de Janeiro     RJ     133432    22021   \n",
       "\n",
       "     popDe10a14  popDe15a19  popDe20a24  popDe25a34  ...  domiciliosA1  \\\n",
       "9          5225        7432        8627       21914  ...         13408   \n",
       "36         3727        6383        9168       21814  ...          5740   \n",
       "15         2608        4410        5911       14697  ...          3669   \n",
       "141        6405        9750       10968       23657  ...          4351   \n",
       "82         1380        2131        2390        6177  ...          5423   \n",
       "..          ...         ...         ...         ...  ...           ...   \n",
       "62         8474       10307        9069       18732  ...             0   \n",
       "125        4576        6527        7855       14629  ...             0   \n",
       "127       16403       20998       18090       34697  ...             0   \n",
       "8         15949       20926       20146       37750  ...             0   \n",
       "90         9536       12193       12618       24528  ...             0   \n",
       "\n",
       "     domiciliosA2  domiciliosB1  domiciliosB2  domiciliosC1  domiciliosC2  \\\n",
       "9           11668         14820          5205          3437          1841   \n",
       "36           9218         19350         13160         10982          5482   \n",
       "15           5165         11669          6106          5289          3009   \n",
       "141          8306         19076         11631         10755          6539   \n",
       "82           3532          5342          1863          1890           917   \n",
       "..            ...           ...           ...           ...           ...   \n",
       "62              0          1429          4066          9306         11066   \n",
       "125             0           149          2298          6761          8969   \n",
       "127             0          2057          8310         18161         22160   \n",
       "8             496          5246         13274         24363         22447   \n",
       "90              0           640          4262         12818         15295   \n",
       "\n",
       "     domiciliosD  domiciliosE  rendaMedia  faturamento  \n",
       "9              0         3897     18084.0    2915612.0  \n",
       "36           998         5122      7381.0    2384494.0  \n",
       "15           371         1853      8316.0    2211985.0  \n",
       "141         1280         3723      7844.0    2157079.0  \n",
       "82           217         1595     14738.0    2119774.0  \n",
       "..           ...          ...         ...          ...  \n",
       "62          2289         7258      1237.0      69304.0  \n",
       "125         1402         5242      1037.0      59273.0  \n",
       "127         4572        14833      1188.0      43346.0  \n",
       "8           4564        11109      1550.0      35465.0  \n",
       "90          2977         8274      1107.0      24651.0  \n",
       "\n",
       "[154 rows x 23 columns]"
      ]
     },
     "execution_count": 10,
     "metadata": {},
     "output_type": "execute_result"
    }
   ],
   "source": [
    "df_ = (df.sort_values(by=['faturamento'],ascending=False))\n",
    "df_"
   ]
  },
  {
   "cell_type": "code",
   "execution_count": 11,
   "id": "f5c96294",
   "metadata": {},
   "outputs": [
    {
     "name": "stderr",
     "output_type": "stream",
     "text": [
      "c:\\users\\srcal\\appdata\\local\\programs\\python\\python39\\lib\\site-packages\\seaborn\\distributions.py:2557: FutureWarning: `distplot` is a deprecated function and will be removed in a future version. Please adapt your code to use either `displot` (a figure-level function with similar flexibility) or `histplot` (an axes-level function for histograms).\n",
      "  warnings.warn(msg, FutureWarning)\n"
     ]
    },
    {
     "data": {
      "text/plain": [
       "<AxesSubplot:title={'center':'Distribuição de Frequências'}, xlabel='faturamento', ylabel='Faturamento(Por bairro)'>"
      ]
     },
     "execution_count": 11,
     "metadata": {},
     "output_type": "execute_result"
    },
    {
     "data": {
      "image/png": "[encoded data removed]",
      "text/plain": [
       "<Figure size 864x432 with 1 Axes>"
      ]
     },
     "metadata": {
      "needs_background": "light"
     },
     "output_type": "display_data"
    }
   ],
   "source": [
    "ax = sns.distplot(df['faturamento'])\n",
    "ax.figure.set_size_inches(12, 6)\n",
    "ax.set_title('Distribuição de Frequências', fontsize=20)\n",
    "ax.set_ylabel('Faturamento(Por bairro)', fontsize=16)\n",
    "ax\n"
   ]
  },
  {
   "cell_type": "markdown",
   "id": "6b9fb42a",
   "metadata": {},
   "source": [
    "###  Na linha de baixo eu puxei todos os graficos, mas como demora para fazer tudo eu deixei como comentario."
   ]
  },
  {
   "cell_type": "code",
   "execution_count": 12,
   "id": "83a93fa5",
   "metadata": {},
   "outputs": [],
   "source": [
    "# ax = sns.pairplot(df)"
   ]
  },
  {
   "cell_type": "code",
   "execution_count": 13,
   "id": "14c6f544",
   "metadata": {},
   "outputs": [
    {
     "data": {
      "text/plain": [
       "<seaborn.axisgrid.PairGrid at 0x20c9d2b0340>"
      ]
     },
     "execution_count": 13,
     "metadata": {},
     "output_type": "execute_result"
    },
    {
     "data": {
      "image/png": "[encoded data removed]",
      "text/plain": [
       "<Figure size 1440x180 with 8 Axes>"
      ]
     },
     "metadata": {},
     "output_type": "display_data"
    }
   ],
   "source": [
    "# palette -> Accent, Accent_r, Blues, Blues_r, BrBG, BrBG_r, BuGn, BuGn_r, BuPu, BuPu_r, CMRmap, CMRmap_r, Dark2, Dark2_r, GnBu, GnBu_r, Greens, Greens_r, Greys, Greys_r, OrRd, OrRd_r, Oranges, Oranges_r, PRGn, PRGn_r, Paired, Paired_r, Pastel1, Pastel1_r, Pastel2, Pastel2_r, PiYG, PiYG_r, PuBu, PuBuGn, PuBuGn_r, PuBu_r, PuOr, PuOr_r, PuRd, PuRd_r, Purples, Purples_r, RdBu, RdBu_r, RdGy, RdGy_r, RdPu, RdPu_r, RdYlBu, RdYlBu_r, RdYlGn, RdYlGn_r, Reds, Reds_r, Set1, Set1_r, Set2, Set2_r, Set3, Set3_r, Spectral, Spectral_r, Wistia, Wistia_r, YlGn, YlGnBu, YlGnBu_r, YlGn_r, YlOrBr, YlOrBr_r, YlOrRd, YlOrRd_r, afmhot, afmhot_r, autumn, autumn_r, binary, binary_r, bone, bone_r, brg, brg_r, bwr, bwr_r, cividis, cividis_r, cool, cool_r, coolwarm, coolwarm_r, copper, copper_r, cubehelix, cubehelix_r, flag, flag_r, gist_earth, gist_earth_r, gist_gray, gist_gray_r, gist_heat, gist_heat_r, gist_ncar, gist_ncar_r, gist_rainbow, gist_rainbow_r, gist_stern, gist_stern_r, gist_yarg, gist_yarg_r, gnuplot, gnuplot2, gnuplot2_r, gnuplot_r, gray, gray_r, hot, hot_r, hsv, hsv_r, icefire, icefire_r, inferno, inferno_r, jet, jet_r, magma, magma_r, mako, mako_r, nipy_spectral, nipy_spectral_r, ocean, ocean_r, pink, pink_r, plasma, plasma_r, prism, prism_r, rainbow, rainbow_r, rocket, rocket_r, seismic, seismic_r, spring, spring_r, summer, summer_r, tab10, tab10_r, tab20, tab20_r, tab20b, tab20b_r, tab20c, tab20c_r, terrain, terrain_r, viridis, viridis_r, vlag, vlag_r, winter, winter_r\n",
    "sns.set_palette(\"Accent\")\n",
    "\n",
    "# style -> white, dark, whitegrid, darkgrid, ticks\n",
    "sns.set_style(\"darkgrid\")\n",
    "\n",
    "ax = sns.pairplot(df,y_vars='faturamento', x_vars=['domiciliosA1','domiciliosA2','domiciliosB1','domiciliosB2','domiciliosC1','domiciliosC2','domiciliosD',\n",
    "                                                   'domiciliosE'])\n",
    "ax.fig.suptitle('Dispersão entre variaveis', fontsize=20, y=1.05)\n",
    "ax"
   ]
  },
  {
   "cell_type": "code",
   "execution_count": 14,
   "id": "bee5c5a4",
   "metadata": {},
   "outputs": [
    {
     "data": {
      "text/plain": [
       "<seaborn.axisgrid.PairGrid at 0x20ca176a6a0>"
      ]
     },
     "execution_count": 14,
     "metadata": {},
     "output_type": "execute_result"
    },
    {
     "data": {
      "image/png": "[encoded data removed]",
      "text/plain": [
       "<Figure size 1620x180 with 9 Axes>"
      ]
     },
     "metadata": {},
     "output_type": "display_data"
    }
   ],
   "source": [
    "ax = sns.pairplot(df,y_vars='faturamento', x_vars=['rendaMedia','domiciliosA1','domiciliosA2','domiciliosB1','domiciliosB2','domiciliosC1','domiciliosC2','domiciliosD',\n",
    "                                                   'domiciliosE'], kind='reg')\n",
    "ax.fig.suptitle('Dispersão entre variaveis', fontsize=20, y=1.05)\n",
    "ax"
   ]
  },
  {
   "cell_type": "code",
   "execution_count": 15,
   "id": "a2d1f8ce",
   "metadata": {},
   "outputs": [],
   "source": [
    "\n",
    "from sklearn.model_selection import train_test_split\n",
    "from sklearn.svm import LinearSVC\n",
    "from sklearn import metrics\n"
   ]
  },
  {
   "cell_type": "code",
   "execution_count": 16,
   "id": "89cc25e8",
   "metadata": {},
   "outputs": [
    {
     "data": {
      "text/plain": [
       "LinearRegression()"
      ]
     },
     "execution_count": 16,
     "metadata": {},
     "output_type": "execute_result"
    }
   ],
   "source": [
    "y = df['faturamento']\n",
    "X = df[['rendaMedia','domiciliosA1','domiciliosA2','domiciliosB1','domiciliosB2','domiciliosC1','domiciliosC2','domiciliosD','domiciliosE']]\n",
    "X_train, X_test, y_train, y_test = train_test_split(X,y, test_size=0.3, random_state = 5000)\n",
    "\n",
    "modelo = LinearRegression()\n",
    "modelo.fit(X_train, y_train)\n",
    "\n"
   ]
  },
  {
   "cell_type": "code",
   "execution_count": 17,
   "id": "ed6b9258",
   "metadata": {},
   "outputs": [
    {
     "data": {
      "text/plain": [
       "((107, 9), (107,))"
      ]
     },
     "execution_count": 17,
     "metadata": {},
     "output_type": "execute_result"
    }
   ],
   "source": [
    "X_train.shape, y_train.shape"
   ]
  },
  {
   "cell_type": "code",
   "execution_count": 18,
   "id": "329bd695",
   "metadata": {},
   "outputs": [
    {
     "data": {
      "text/plain": [
       "((47, 9), (47,))"
      ]
     },
     "execution_count": 18,
     "metadata": {},
     "output_type": "execute_result"
    }
   ],
   "source": [
    "X_test.shape, y_test.shape"
   ]
  },
  {
   "cell_type": "code",
   "execution_count": 19,
   "id": "0d029d50",
   "metadata": {},
   "outputs": [
    {
     "name": "stdout",
     "output_type": "stream",
     "text": [
      "R² = 0.95\n"
     ]
    }
   ],
   "source": [
    "\n",
    "print('R² = {}'.format(modelo.score(X_train, y_train).round(2)))"
   ]
  },
  {
   "cell_type": "code",
   "execution_count": 20,
   "id": "9bc5077d",
   "metadata": {},
   "outputs": [
    {
     "name": "stdout",
     "output_type": "stream",
     "text": [
      "R²= 0.89\n"
     ]
    }
   ],
   "source": [
    "y_previsto=modelo.predict(X_test)\n",
    "print('R²= %s' % metrics.r2_score(y_test, y_previsto).round(2))"
   ]
  },
  {
   "cell_type": "markdown",
   "id": "48d3a2ab",
   "metadata": {},
   "source": [
    "### Obtendo Previsões Pontuais"
   ]
  },
  {
   "cell_type": "code",
   "execution_count": 21,
   "id": "dc8950a3",
   "metadata": {},
   "outputs": [
    {
     "data": {
      "text/html": [
       "<div>\n",
       "<style scoped>\n",
       "    .dataframe tbody tr th:only-of-type {\n",
       "        vertical-align: middle;\n",
       "    }\n",
       "\n",
       "    .dataframe tbody tr th {\n",
       "        vertical-align: top;\n",
       "    }\n",
       "\n",
       "    .dataframe thead th {\n",
       "        text-align: right;\n",
       "    }\n",
       "</style>\n",
       "<table border=\"1\" class=\"dataframe\">\n",
       "  <thead>\n",
       "    <tr style=\"text-align: right;\">\n",
       "      <th></th>\n",
       "      <th>rendaMedia</th>\n",
       "      <th>domiciliosA1</th>\n",
       "      <th>domiciliosA2</th>\n",
       "      <th>domiciliosB1</th>\n",
       "      <th>domiciliosB2</th>\n",
       "      <th>domiciliosC1</th>\n",
       "      <th>domiciliosC2</th>\n",
       "      <th>domiciliosD</th>\n",
       "      <th>domiciliosE</th>\n",
       "    </tr>\n",
       "  </thead>\n",
       "  <tbody>\n",
       "    <tr>\n",
       "      <th>27</th>\n",
       "      <td>1499.0</td>\n",
       "      <td>0</td>\n",
       "      <td>0</td>\n",
       "      <td>335</td>\n",
       "      <td>988</td>\n",
       "      <td>1755</td>\n",
       "      <td>1384</td>\n",
       "      <td>329</td>\n",
       "      <td>794</td>\n",
       "    </tr>\n",
       "  </tbody>\n",
       "</table>\n",
       "</div>"
      ],
      "text/plain": [
       "    rendaMedia  domiciliosA1  domiciliosA2  domiciliosB1  domiciliosB2  \\\n",
       "27      1499.0             0             0           335           988   \n",
       "\n",
       "    domiciliosC1  domiciliosC2  domiciliosD  domiciliosE  \n",
       "27          1755          1384          329          794  "
      ]
     },
     "execution_count": 21,
     "metadata": {},
     "output_type": "execute_result"
    }
   ],
   "source": [
    "entrada = X_test[0:1]\n",
    "entrada\n"
   ]
  },
  {
   "cell_type": "code",
   "execution_count": 22,
   "id": "8bdd7275",
   "metadata": {},
   "outputs": [
    {
     "name": "stdout",
     "output_type": "stream",
     "text": [
      "796303.41 faturamento\n"
     ]
    }
   ],
   "source": [
    "print('{0:.2f} faturamento'.format(modelo.predict(entrada)[0]))"
   ]
  },
  {
   "cell_type": "markdown",
   "id": "86e9e458",
   "metadata": {},
   "source": [
    "### Nas condições testadas o modelo prever um faturamento de 796303.41 faturamento naquele bairro"
   ]
  },
  {
   "cell_type": "markdown",
   "id": "7dd66820",
   "metadata": {},
   "source": [
    "### Entao podemos fazer  um simulador simples"
   ]
  },
  {
   "cell_type": "code",
   "execution_count": 23,
   "id": "e8927eb3",
   "metadata": {},
   "outputs": [
    {
     "name": "stdout",
     "output_type": "stream",
     "text": [
      "Provavelmente tera um faturamento de 2490705.82 nesse bairro\n"
     ]
    }
   ],
   "source": [
    "rendaMedia=7381.0\n",
    "domiciliosA1=5740\n",
    "domiciliosA2=11668\n",
    "domiciliosB1=19350\n",
    "domiciliosB2=13160\n",
    "domiciliosC1=10982\n",
    "domiciliosC2=5482\n",
    "domiciliosD=998\n",
    "domiciliosE=5122\n",
    "entrada=[[rendaMedia,domiciliosA1,domiciliosA2, domiciliosB1, domiciliosB2,\n",
    "          domiciliosC1, domiciliosC2,\tdomiciliosD,domiciliosE]]\n",
    "print('Provavelmente tera um faturamento de {0:.2f} nesse bairro'.format(modelo.predict(entrada)[0]))"
   ]
  },
  {
   "cell_type": "code",
   "execution_count": 24,
   "id": "1f336f93",
   "metadata": {},
   "outputs": [
    {
     "data": {
      "text/plain": [
       "849597.1336512465"
      ]
     },
     "execution_count": 24,
     "metadata": {},
     "output_type": "execute_result"
    }
   ],
   "source": [
    "modelo.intercept_"
   ]
  },
  {
   "cell_type": "code",
   "execution_count": 25,
   "id": "a2158cf0",
   "metadata": {},
   "outputs": [
    {
     "data": {
      "text/plain": [
       "numpy.float64"
      ]
     },
     "execution_count": 25,
     "metadata": {},
     "output_type": "execute_result"
    }
   ],
   "source": [
    "type(modelo.intercept_)"
   ]
  },
  {
   "cell_type": "code",
   "execution_count": 26,
   "id": "ff2aa715",
   "metadata": {},
   "outputs": [
    {
     "data": {
      "text/plain": [
       "array([ 12.4194915 , 123.63090134, -83.46908579,  92.8507901 ,\n",
       "        78.58588643, -61.71917434, -30.3054333 , -20.36307218,\n",
       "       -29.8477184 ])"
      ]
     },
     "execution_count": 26,
     "metadata": {},
     "output_type": "execute_result"
    }
   ],
   "source": [
    "modelo.coef_"
   ]
  },
  {
   "cell_type": "code",
   "execution_count": 27,
   "id": "eb2a29dc",
   "metadata": {},
   "outputs": [
    {
     "data": {
      "text/plain": [
       "Index(['rendaMedia', 'domiciliosA1', 'domiciliosA2', 'domiciliosB1',\n",
       "       'domiciliosB2', 'domiciliosC1', 'domiciliosC2', 'domiciliosD',\n",
       "       'domiciliosE'],\n",
       "      dtype='object')"
      ]
     },
     "execution_count": 27,
     "metadata": {},
     "output_type": "execute_result"
    }
   ],
   "source": [
    "X.columns"
   ]
  },
  {
   "cell_type": "code",
   "execution_count": 28,
   "id": "535eff4d",
   "metadata": {},
   "outputs": [],
   "source": [
    "index=['Intercepto','rendaMedia', 'domiciliosA1', 'domiciliosA2', 'domiciliosB1',\n",
    "       'domiciliosB2', 'domiciliosC1', 'domiciliosC2', 'domiciliosD',\n",
    "       'domiciliosE']"
   ]
  },
  {
   "cell_type": "markdown",
   "id": "439601fe",
   "metadata": {},
   "source": [
    "#### O intercepto representa o efeito médio em Y (variável dependente), tendo todas as variáveis explicativas excluídas do modelo"
   ]
  },
  {
   "cell_type": "code",
   "execution_count": 29,
   "id": "99211331",
   "metadata": {},
   "outputs": [
    {
     "data": {
      "text/html": [
       "<div>\n",
       "<style scoped>\n",
       "    .dataframe tbody tr th:only-of-type {\n",
       "        vertical-align: middle;\n",
       "    }\n",
       "\n",
       "    .dataframe tbody tr th {\n",
       "        vertical-align: top;\n",
       "    }\n",
       "\n",
       "    .dataframe thead th {\n",
       "        text-align: right;\n",
       "    }\n",
       "</style>\n",
       "<table border=\"1\" class=\"dataframe\">\n",
       "  <thead>\n",
       "    <tr style=\"text-align: right;\">\n",
       "      <th></th>\n",
       "      <th>Parametros</th>\n",
       "    </tr>\n",
       "  </thead>\n",
       "  <tbody>\n",
       "    <tr>\n",
       "      <th>Intercepto</th>\n",
       "      <td>849597.133651</td>\n",
       "    </tr>\n",
       "    <tr>\n",
       "      <th>rendaMedia</th>\n",
       "      <td>12.419492</td>\n",
       "    </tr>\n",
       "    <tr>\n",
       "      <th>domiciliosA1</th>\n",
       "      <td>123.630901</td>\n",
       "    </tr>\n",
       "    <tr>\n",
       "      <th>domiciliosA2</th>\n",
       "      <td>-83.469086</td>\n",
       "    </tr>\n",
       "    <tr>\n",
       "      <th>domiciliosB1</th>\n",
       "      <td>92.850790</td>\n",
       "    </tr>\n",
       "    <tr>\n",
       "      <th>domiciliosB2</th>\n",
       "      <td>78.585886</td>\n",
       "    </tr>\n",
       "    <tr>\n",
       "      <th>domiciliosC1</th>\n",
       "      <td>-61.719174</td>\n",
       "    </tr>\n",
       "    <tr>\n",
       "      <th>domiciliosC2</th>\n",
       "      <td>-30.305433</td>\n",
       "    </tr>\n",
       "    <tr>\n",
       "      <th>domiciliosD</th>\n",
       "      <td>-20.363072</td>\n",
       "    </tr>\n",
       "    <tr>\n",
       "      <th>domiciliosE</th>\n",
       "      <td>-29.847718</td>\n",
       "    </tr>\n",
       "  </tbody>\n",
       "</table>\n",
       "</div>"
      ],
      "text/plain": [
       "                 Parametros\n",
       "Intercepto    849597.133651\n",
       "rendaMedia        12.419492\n",
       "domiciliosA1     123.630901\n",
       "domiciliosA2     -83.469086\n",
       "domiciliosB1      92.850790\n",
       "domiciliosB2      78.585886\n",
       "domiciliosC1     -61.719174\n",
       "domiciliosC2     -30.305433\n",
       "domiciliosD      -20.363072\n",
       "domiciliosE      -29.847718"
      ]
     },
     "execution_count": 29,
     "metadata": {},
     "output_type": "execute_result"
    }
   ],
   "source": [
    "pd.DataFrame(data=np.append(modelo.intercept_,modelo.coef_),index=index,columns=[\"Parametros\"])"
   ]
  },
  {
   "cell_type": "markdown",
   "id": "89f45977",
   "metadata": {},
   "source": [
    "### Com isso temos mais certeza que a influencia da renda e dos domicilios de classe mais alta, tem uma influencia direta no aumento do faturamento, ja os domicilios de C1,C2,D e E tem uma relaçao inversamente proporcional  ao Faturamento. (OBS: A2 tambem gera queda do faturamento, talvez uma analise mais  minuciosa explicaria o motivo)."
   ]
  },
  {
   "cell_type": "code",
   "execution_count": 55,
   "id": "6b2400c8",
   "metadata": {},
   "outputs": [
    {
     "data": {
      "text/plain": [
       "<AxesSubplot:title={'center':'Previsão X Real'}, xlabel='Faturamento(Por bairro) - Previsão', ylabel='Faturamento(Por bairro) - Real'>"
      ]
     },
     "execution_count": 55,
     "metadata": {},
     "output_type": "execute_result"
    },
    {
     "data": {
      "image/png": "[encoded data removed]",
      "text/plain": [
       "<Figure size 864x432 with 1 Axes>"
      ]
     },
     "metadata": {},
     "output_type": "display_data"
    }
   ],
   "source": [
    "y_previsto_train = modelo.predict(X_train)\n",
    "ax = sns.scatterplot(x=y_previsto_train, y=y_train)\n",
    "ax.figure.set_size_inches(12, 6)\n",
    "ax.set_title('Previsão X Real', fontsize=20)\n",
    "ax.set_xlabel('Faturamento(Por bairro) - Previsão', fontsize=16)\n",
    "ax.set_ylabel('Faturamento(Por bairro) - Real', fontsize=16)\n",
    "ax"
   ]
  },
  {
   "cell_type": "code",
   "execution_count": null,
   "id": "0927d55c",
   "metadata": {},
   "outputs": [],
   "source": []
  },
  {
   "cell_type": "code",
   "execution_count": 31,
   "id": "f3500525",
   "metadata": {},
   "outputs": [],
   "source": [
    "residuo = y_train - y_previsto_train"
   ]
  },
  {
   "cell_type": "code",
   "execution_count": 32,
   "id": "c42ae35c",
   "metadata": {},
   "outputs": [
    {
     "data": {
      "text/plain": [
       "<AxesSubplot:title={'center':' Residuo X Previsão'}, xlabel='Faturamento(Por bairro) - Previsão)', ylabel='Residuo'>"
      ]
     },
     "execution_count": 32,
     "metadata": {},
     "output_type": "execute_result"
    },
    {
     "data": {
      "image/png": "[encoded data removed]",
      "text/plain": [
       "<Figure size 864x432 with 1 Axes>"
      ]
     },
     "metadata": {},
     "output_type": "display_data"
    }
   ],
   "source": [
    "y_previsto_train = modelo.predict(X_train)\n",
    "ax = sns.scatterplot(x=y_previsto_train, y=residuo, s=150)\n",
    "ax.figure.set_size_inches(12, 6)\n",
    "ax.set_title(' Residuo X Previsão', fontsize=20)\n",
    "ax.set_xlabel('Faturamento(Por bairro) - Previsão)', fontsize=16)\n",
    "ax.set_ylabel('Residuo', fontsize=16)\n",
    "ax"
   ]
  },
  {
   "cell_type": "code",
   "execution_count": 33,
   "id": "a7063a4e",
   "metadata": {},
   "outputs": [
    {
     "data": {
      "text/plain": [
       "<AxesSubplot:title={'center':' Residuo X Previsão'}, xlabel='Faturamento(Por bairro) - Previsão)', ylabel='Residuo'>"
      ]
     },
     "execution_count": 33,
     "metadata": {},
     "output_type": "execute_result"
    },
    {
     "data": {
      "image/png": "[encoded data removed]",
      "text/plain": [
       "<Figure size 864x432 with 1 Axes>"
      ]
     },
     "metadata": {},
     "output_type": "display_data"
    }
   ],
   "source": [
    "y_previsto_train = modelo.predict(X_train)\n",
    "ax = sns.scatterplot(x=y_previsto_train, y=residuo**2, s=150)\n",
    "ax.figure.set_size_inches(12, 6)\n",
    "ax.set_title(' Residuo X Previsão', fontsize=20)\n",
    "ax.set_xlabel('Faturamento(Por bairro) - Previsão)', fontsize=16)\n",
    "ax.set_ylabel('Residuo', fontsize=16)\n",
    "ax"
   ]
  },
  {
   "cell_type": "code",
   "execution_count": 34,
   "id": "a3ef4701",
   "metadata": {},
   "outputs": [
    {
     "name": "stderr",
     "output_type": "stream",
     "text": [
      "c:\\users\\srcal\\appdata\\local\\programs\\python\\python39\\lib\\site-packages\\seaborn\\distributions.py:2557: FutureWarning: `distplot` is a deprecated function and will be removed in a future version. Please adapt your code to use either `displot` (a figure-level function with similar flexibility) or `histplot` (an axes-level function for histograms).\n",
      "  warnings.warn(msg, FutureWarning)\n"
     ]
    },
    {
     "data": {
      "text/plain": [
       "<AxesSubplot:title={'center':'Distribuição de Frequências dos Residuos'}, xlabel='faturamento', ylabel='Faturamento'>"
      ]
     },
     "execution_count": 34,
     "metadata": {},
     "output_type": "execute_result"
    },
    {
     "data": {
      "image/png": "[encoded data removed]",
      "text/plain": [
       "<Figure size 864x432 with 1 Axes>"
      ]
     },
     "metadata": {},
     "output_type": "display_data"
    }
   ],
   "source": [
    "ax = sns.distplot(residuo)\n",
    "ax.figure.set_size_inches(12, 6)\n",
    "ax.set_title('Distribuição de Frequências dos Residuos', fontsize=20)\n",
    "ax.set_ylabel('Faturamento', fontsize=16)\n",
    "ax"
   ]
  },
  {
   "cell_type": "code",
   "execution_count": null,
   "id": "9612f207",
   "metadata": {},
   "outputs": [],
   "source": []
  },
  {
   "cell_type": "code",
   "execution_count": null,
   "id": "fa93eafe",
   "metadata": {},
   "outputs": [],
   "source": []
  },
  {
   "cell_type": "code",
   "execution_count": 59,
   "id": "02800bd5",
   "metadata": {},
   "outputs": [
    {
     "name": "stdout",
     "output_type": "stream",
     "text": [
      "Provavelmente tera um faturamento de 2850292.67 nesse bairro\n"
     ]
    }
   ],
   "source": [
    "entrada = X_test[0:1]\n",
    "entrada\n",
    "\n",
    "rendaMedia=7381.0\n",
    "domiciliosA1=5740\n",
    "domiciliosA2=5168\n",
    "domiciliosB1=19350\n",
    "domiciliosB2=13160\n",
    "domiciliosC1=10982\n",
    "domiciliosC2=5482\n",
    "domiciliosD=9983\n",
    "domiciliosE=5122\n",
    "entrada=[[rendaMedia,domiciliosA1,domiciliosA2, domiciliosB1, domiciliosB2,\n",
    "          domiciliosC1, domiciliosC2,\tdomiciliosD,domiciliosE]]\n",
    "print('Provavelmente tera um faturamento de {0:.2f} nesse bairro'.format(modelo.predict(entrada)[0]))"
   ]
  },
  {
   "cell_type": "code",
   "execution_count": 36,
   "id": "2f7fc941",
   "metadata": {},
   "outputs": [],
   "source": [
    "\n",
    "import pickle"
   ]
  },
  {
   "cell_type": "code",
   "execution_count": 37,
   "id": "98eaf7a6",
   "metadata": {},
   "outputs": [],
   "source": [
    "output = open('modelo_faturamento','wb')\n",
    "pickle.dump(modelo, output)\n",
    "output.close()"
   ]
  }
 ],
 "metadata": {
  "kernelspec": {
   "display_name": "Python 3",
   "language": "python",
   "name": "python3"
  },
  "language_info": {
   "codemirror_mode": {
    "name": "ipython",
    "version": 3
   },
   "file_extension": ".py",
   "mimetype": "text/x-python",
   "name": "python",
   "nbconvert_exporter": "python",
   "pygments_lexer": "ipython3",
   "version": "3.9.4"
  }
 },
 "nbformat": 4,
 "nbformat_minor": 5
}
